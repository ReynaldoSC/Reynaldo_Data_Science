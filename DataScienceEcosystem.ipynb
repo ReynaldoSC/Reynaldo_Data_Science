{
 "cells": [
  {
   "cell_type": "markdown",
   "metadata": {},
   "source": [
    "<center>\n",
    "    <img src=\"https://cf-courses-data.s3.us.cloud-object-storage.appdomain.cloud/IBMDeveloperSkillsNetwork-DS0105EN-SkillsNetwork/labs/Module2/images/SN_web_lightmode.png\" width=\"300\" alt=\"cognitiveclass.ai logo\">\n",
    "</center>\n"
   ]
  },
  {
   "cell_type": "markdown",
   "metadata": {
    "tags": []
   },
   "source": [
    "#### Add your code below following the instructions given in the course\n"
   ]
  },
  {
   "cell_type": "markdown",
   "metadata": {},
   "source": [
    "#Exercise 2 - Create a markdown cell with the title of the notebook\n",
    "\n",
    "Data Science Tools and Ecosystem"
   ]
  },
  {
   "cell_type": "markdown",
   "metadata": {},
   "source": [
    "#Exercise 3 - Create a markdown cell for an introduction\n",
    "\n",
    "In this notebook, Data Science Tools and Ecosystem are summarized."
   ]
  },
  {
   "cell_type": "markdown",
   "metadata": {},
   "source": [
    "#Exercise 4 - Create a markdown cell to list data science languages\n",
    "\n",
    "<p>Some of the popular languages that Data Scientists use are:</p>\n",
    "<p>&nbsp; &nbsp; 1. Python</p>\n",
    "<p>&nbsp; &nbsp; 2. R</p>\n",
    "<p>&nbsp; &nbsp; 3. SQL</p>\n",
    "<p>&nbsp; &nbsp; 4. Scala</p>\n",
    "<p>&nbsp; &nbsp; 5. Java</p>\n",
    "<p>&nbsp; &nbsp; 6. C++</p>\n",
    "<p>&nbsp; &nbsp; 7. Julia</p>\n",
    "<p>&nbsp; &nbsp; 8. JavaScript</p>\n",
    "<p>&nbsp; &nbsp; 9. PHP</p>\n",
    "<p>&nbsp; &nbsp; 10. Go</p>\n",
    "<p>&nbsp; &nbsp; 11. Ruby</p>\n",
    "<p>&nbsp; &nbsp; 12. Visual Basic</p>"
   ]
  },
  {
   "cell_type": "markdown",
   "metadata": {},
   "source": [
    "#Exercise 5 - Create a markdown cell to list data science libraries\n",
    "\n",
    "<p>Some of the commonly used libraries used by Data Scientists include:</p>\n",
    "\n",
    "<p>&nbsp; &nbsp; 1. Pandas</p>\n",
    "<p>&nbsp; &nbsp; 2. Numpy</p>\n",
    "<p>&nbsp; &nbsp; 3. Matplotlib</p>\n",
    "<p>&nbsp; &nbsp; 4. Seaborn</p>\n",
    "<p>&nbsp; &nbsp; 5. Scikit-learn</p>\n",
    "<p>&nbsp; &nbsp; 6. Keras</p>\n",
    "<p>&nbsp; &nbsp; 7. TensorFlow</p>\n",
    "<p>&nbsp; &nbsp; 8. PyTorch</p>\n",
    "<p>&nbsp; &nbsp; 9. Apache Spark</p>\n",
    "<p>&nbsp; &nbsp; 10. Vegas</p>\n",
    "<p>&nbsp; &nbsp; 11. Big DL</p>\n",
    "<p>&nbsp; &nbsp; 12. Ggplot2</p>"
   ]
  },
  {
   "cell_type": "markdown",
   "metadata": {},
   "source": [
    "#Exercise 6 - Create a markdown cell with a table of Data Science tools\n",
    "\n",
    "Some examples below:\n",
    "\n",
    "|Tool |Developer | \n",
    "|-----|:-----:|\n",
    "|SAS |SAS Company  |\n",
    "|Apache Spark|AMP Lab|\n",
    "|MatLab|Math Works|\n",
    "|TensorFlow|Google Brain Team|\n",
    "|Jupyter|Project Jupyter|\n",
    "|Tableau|Tableau|"
   ]
  },
  {
   "cell_type": "markdown",
   "metadata": {},
   "source": [
    "#Exercise 7 - Create a markdown cell introducing arithmetic expression examples\n",
    "\n",
    "Below are a few examples of evaluating arithmetic expressions in Python:\n",
    "\n",
    "x = 4 + 9 y = 3 * (8 + 10)"
   ]
  },
  {
   "cell_type": "code",
   "execution_count": 3,
   "metadata": {},
   "outputs": [
    {
     "data": {
      "text/plain": [
       "17"
      ]
     },
     "execution_count": 3,
     "metadata": {},
     "output_type": "execute_result"
    }
   ],
   "source": [
    "#Exercise 8 - Create a code cell to multiply and add numbers\n",
    "\n",
    "#This a simple arithmetic expression to mutiply then add integers\n",
    "\n",
    "x = (3 * 4) + 5\n",
    "x"
   ]
  },
  {
   "cell_type": "code",
   "execution_count": 4,
   "metadata": {},
   "outputs": [
    {
     "data": {
      "text/plain": [
       "3.3333333333333335"
      ]
     },
     "execution_count": 4,
     "metadata": {},
     "output_type": "execute_result"
    }
   ],
   "source": [
    "#Exercise 9 - Create a code cell to convert minutes to hours\n",
    "\n",
    "#This will convert 200 minutes to hours by diving by 60\n",
    "\n",
    "minuties = 200\n",
    "\n",
    "hours = minuties / 60\n",
    "\n",
    "hours"
   ]
  },
  {
   "cell_type": "markdown",
   "metadata": {},
   "source": [
    "#Exercise 10 -Insert a markdown cell to list Objectives\n",
    "\n",
    "<b>Objectives:</b>\n",
    "\n",
    "1-Gain more knowledge | 2-Practice habilities in new tools | 3-Share experience | 4-Know tools to use them during a job"
   ]
  },
  {
   "cell_type": "markdown",
   "metadata": {},
   "source": [
    "#Exercise 11 - Create a markdown cell to indicate the Author’s name\n",
    "\n",
    "Author's name: Reynaldo de Sousa Cardoso"
   ]
  }
 ],
 "metadata": {
  "kernelspec": {
   "display_name": "Python",
   "language": "python",
   "name": "conda-env-python-py"
  },
  "language_info": {
   "codemirror_mode": {
    "name": "ipython",
    "version": 3
   },
   "file_extension": ".py",
   "mimetype": "text/x-python",
   "name": "python",
   "nbconvert_exporter": "python",
   "pygments_lexer": "ipython3",
   "version": "3.7.12"
  }
 },
 "nbformat": 4,
 "nbformat_minor": 4
}
