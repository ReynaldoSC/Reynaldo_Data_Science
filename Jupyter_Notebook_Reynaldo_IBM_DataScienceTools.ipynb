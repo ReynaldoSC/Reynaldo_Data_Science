{
 "cells": [
  {
   "cell_type": "markdown",
   "metadata": {},
   "source": [
    "<center>\n",
    "    <img src=\"https://cf-courses-data.s3.us.cloud-object-storage.appdomain.cloud/IBMDeveloperSkillsNetwork-DS0105EN-SkillsNetwork/labs/Module2/images/SN_web_lightmode.png\" width=\"300\" alt=\"cognitiveclass.ai logo\">\n",
    "</center>\n"
   ]
  },
  {
   "cell_type": "markdown",
   "metadata": {
    "tags": []
   },
   "source": [
    "#### Add your code below following the instructions given in the course\n"
   ]
  },
  {
   "cell_type": "markdown",
   "metadata": {},
   "source": [
    "#Exercise 2 - Create a markdown cell with the title of the notebook\n",
    "\n",
    "Jupyter_Notebook_Reynaldo_IBM_DataScienceTools"
   ]
  },
  {
   "cell_type": "markdown",
   "metadata": {},
   "source": [
    "#Exercise 3 - Create a markdown cell for an introduction\n",
    "\n",
    "Practicing codes for the IBM Data Science Tools module"
   ]
  },
  {
   "cell_type": "markdown",
   "metadata": {},
   "source": [
    "#Exercise 4 - Create a markdown cell to list data science languages\n",
    "\n",
    "Python, R, SQL, Scala, Java, C++, Julia and many others specifics."
   ]
  },
  {
   "cell_type": "markdown",
   "metadata": {},
   "source": [
    "#Exercise 5 - Create a markdown cell to list data science libraries\n",
    "\n",
    "TensorFlow, NumPy, SciPy, Pandas, Matplotlib, Keras, SciKit-Learn, PyTorch, Caffe, etc"
   ]
  },
  {
   "cell_type": "markdown",
   "metadata": {},
   "source": [
    "#Exercise 6 - Create a markdown cell with a table of Data Science tools\n",
    "\n",
    "Some examples below:\n",
    "\n",
    "|Tool |Developer | \n",
    "|-----|:-----:|\n",
    "|SAS |SAS Company  |\n",
    "|Apache Spark|AMP Lab|\n",
    "|MatLab|Math Works|\n",
    "|TensorFlow|Google Brain Team|\n",
    "|Jupyter|Project Jupyter|\n",
    "|Tableau|Tableau|"
   ]
  },
  {
   "cell_type": "markdown",
   "metadata": {},
   "source": [
    "#Exercise 7 - Create a markdown cell introducing arithmetic expression examples\n",
    "\n",
    "x = 4 + 9\n",
    "y = 3 * (8 + 10)"
   ]
  },
  {
   "cell_type": "code",
   "execution_count": 4,
   "metadata": {},
   "outputs": [
    {
     "data": {
      "text/plain": [
       "31"
      ]
     },
     "execution_count": 4,
     "metadata": {},
     "output_type": "execute_result"
    }
   ],
   "source": [
    "#Exercise 8 - Create a code cell to multiply and add numbers\n",
    "\n",
    "x = 4 + 9 * 3\n",
    "x"
   ]
  },
  {
   "cell_type": "code",
   "execution_count": 5,
   "metadata": {},
   "outputs": [
    {
     "data": {
      "text/plain": [
       "2.0"
      ]
     },
     "execution_count": 5,
     "metadata": {},
     "output_type": "execute_result"
    }
   ],
   "source": [
    "#Exercise 9 - Create a code cell to convert minutes to hours\n",
    "\n",
    "minuties = 120\n",
    "\n",
    "hours = minuties / 60\n",
    "\n",
    "hours"
   ]
  },
  {
   "cell_type": "markdown",
   "metadata": {},
   "source": [
    "#Exercise 10 -Insert a markdown cell to list Objectives\n",
    "\n",
    "1-Gain more knowledge |\n",
    "2-Practice habilities in new tools |\n",
    "3-Share experience |\n",
    "4-Know tools to use them during a job"
   ]
  },
  {
   "cell_type": "markdown",
   "metadata": {},
   "source": [
    "#Exercise 11 - Create a markdown cell to indicate the Author’s name\n",
    "\n",
    "Author's name: Reynaldo de Sousa Cardoso"
   ]
  }
 ],
 "metadata": {
  "kernelspec": {
   "display_name": "Python",
   "language": "python",
   "name": "conda-env-python-py"
  },
  "language_info": {
   "codemirror_mode": {
    "name": "ipython",
    "version": 3
   },
   "file_extension": ".py",
   "mimetype": "text/x-python",
   "name": "python",
   "nbconvert_exporter": "python",
   "pygments_lexer": "ipython3",
   "version": "3.7.12"
  }
 },
 "nbformat": 4,
 "nbformat_minor": 4
}
